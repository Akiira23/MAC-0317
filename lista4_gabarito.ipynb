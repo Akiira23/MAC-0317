{
 "cells": [
  {
   "cell_type": "code",
   "execution_count": null,
   "metadata": {},
   "outputs": [],
   "source": [
    "import numpy as np\n",
    "import math as m\n",
    "import matplotlib.pyplot as plt\n",
    "import scipy.linalg as ln "
   ]
  },
  {
   "cell_type": "markdown",
   "metadata": {},
   "source": [
    "# MAC0317/5920 - Introdução ao Processamento DIgital de Sinais\n",
    "## Quarta Lista de Exercícios"
   ]
  },
  {
   "cell_type": "markdown",
   "metadata": {},
   "source": [
    "### 1 - Convolução e Matrizes Circulantes"
   ]
  },
  {
   "cell_type": "markdown",
   "metadata": {},
   "source": [
    "__Exercício 4.2__ Escreva a matriz circulante associada ao vetor $g=(1,5,7,2)^T$ e use-a para computar a convolução circular de $g$ com o vetor $x=(1,-1,1,2)^T$.\n"
   ]
  },
  {
   "cell_type": "markdown",
   "metadata": {},
   "source": [
    "$ M_g = \\begin{bmatrix}  1 & 2 & 7 & 5 \\\\ 5 & 1 & 2 & 7 \\\\ 7 & 5 & 1 & 2 \\\\ 2 & 7 & 5 & 1 \\end{bmatrix}$  &nbsp;&nbsp;&nbsp;&nbsp;&nbsp;&nbsp;&nbsp;&nbsp;&nbsp;&nbsp;&nbsp;&nbsp;&nbsp;&nbsp;&nbsp; $x*g = \\begin{bmatrix}  1 & 2 & 7 & 5 \\\\ 5 & 1 & 2 & 7 \\\\ 7 & 5 & 1 & 2 \\\\ 2 & 7 & 5 & 1 \\end{bmatrix}.\\begin{bmatrix}  1 \\\\ -1 \\\\ 1 \\\\ 2 \\end{bmatrix} = \\begin{bmatrix}  16 & 20 & 7 & 2 \\end{bmatrix}$"
   ]
  },
  {
   "cell_type": "markdown",
   "metadata": {},
   "source": [
    "__Exercício 4.9__\n",
    "\n",
    "a. Defina a _reversão temporal_ (também chamada de adjunto) de um filtro $\\textbf{h} \\in \\mathbb{R}^N$ como o vetor $\\textbf{h}' \\in \\mathbb{R}^N$ com componentes\n",
    "\n",
    "$$h_k' = h_{-k\\mod N},$$\n",
    "\n",
    "para $0 \\leq k \\leq N-1$ (considere que também $\\textbf{h}'$ pode ser estendido periodicamente no índice $k$). Mostre que as matrizes circulantes de $\\textbf{h}$ e $\\textbf{h}'$ satisfazem $\\textbf{M}_{\\textbf{h}'} = \\textbf{M}_{\\textbf{h}}^T$.\n",
    "    \n",
    "    \n",
    "__Solução__:    \n",
    "Para $0 \\leq i,j \\leq N-1$:    \n",
    "    \n",
    "$$ (M_{h'})_{i,j} = h'_{(i-j) \\mod N} =  h_{(- [(i-j) \\mod N]) \\mod N}  = h_{(j-i) \\mod N} = (M_h)_{j,i} = (M_h^T)_{i,j} $$"
   ]
  },
  {
   "cell_type": "markdown",
   "metadata": {},
   "source": [
    "b. Dizemos que um filtro é _simétrico_ se $\\textbf{h} = \\textbf{h}'$. Mostre que  $\\textbf{h}$ é simétrico se, e somente se, a matriz circulante $\\textbf{M}_{\\textbf{h}}$ é simétrica.\n",
    "\n",
    "__Solução__:\n",
    "Para $0 \\leq i,j \\leq N-1$:\n",
    "\n",
    "$$ h = h' \\Leftrightarrow  h_{i-j \\mod N} = h'_{i-j \\mod N} \\Leftrightarrow (M_h)_{i,j} = (M_{h'})_{i,j} \\Leftrightarrow M_h = M_{h'} \\Leftrightarrow M_h = M_h^T$$\n",
    "    "
   ]
  },
  {
   "cell_type": "markdown",
   "metadata": {},
   "source": [
    "c. Para um filtro com coeficientes complexos $\\textbf{h} \\in \\mathbb{C}^N$ definimos seu adjunto $\\textbf{h}' \\in \\mathbb{C}^N$ como\n",
    "\n",
    "$$ h_k' = \\overline{h_{-k\\mod N}}.$$\n",
    "\n",
    "Mostre que as matrizes circulantes de $\\textbf{h}$ e $\\textbf{h}'$ satisfazem $ \\textbf{M}_{\\textbf{h}'} = \\textbf{M}_{\\textbf{h}}^*$ (onde o asterisco denota a matriz transposta e conjugada).\n",
    "\n",
    "__Solução__:    \n",
    "Para $0 \\leq i,j \\leq N-1$:    \n",
    "    \n",
    "$$ (M_{h'})_{i,j} = h'_{(i-j) \\mod N} =  \\overline{h_{(- [(i-j) \\mod N]) \\mod N}}  = \\overline{h_{(j-i) \\mod N}} = \\overline{(M_h)_{j,i}} = \\overline{(M_h^T)_{i,j}} = (M_h^*)_{i,j} $$"
   ]
  },
  {
   "cell_type": "markdown",
   "metadata": {},
   "source": [
    "### 2  - Filtragem"
   ]
  },
  {
   "cell_type": "markdown",
   "metadata": {},
   "source": [
    "__Exercício 4.10__ Sejam $g,h\\in\\mathbb{R}^N$ e $g',h'$ seus adjuntos (usando a reversão temporal definida no exercício 4.9). Qual é a relação entre $g$, $h$ e $w=(g'*h')'$? _Dica: use matrizes circulantes, relembre a parte (iii) do teorema 4.2.1, e use a propriedade $x=y\\iff M_x=M_y$ (esse é o exercício 4.7, que você pode usar sem provar)._"
   ]
  },
  {
   "cell_type": "markdown",
   "metadata": {},
   "source": [
    "$$ M_{(g'*h')'} = M^T_{g' * h'} = (M_{g'}M_{h'})^T = (M^T_g M^T_h)^T = M_hM_g = M_{h*g} = M_{g*h}$$\n",
    "\n",
    "portanto como $ M_{g*h} = M_{(g'*h')'}$ temos que $g*h = (g'*h')' = w$"
   ]
  },
  {
   "cell_type": "markdown",
   "metadata": {},
   "source": [
    "__Exercício 4.11__ Crie um Python notebook para construir uma versão amostrada $f\\in\\mathbb{R}^{256}$ da função\n",
    "\n",
    "$$f(t)=\\left\\{\\begin{array}{ll}\\sin(10\\pi t)&0\\le t<\\frac{1}{2}\\\\\\frac{1}{2}&\\frac{1}{2}\\le t<1,\\end{array}\\right.$$\n",
    "\n",
    "no intervalo $t\\in[0,1)$, e seja $v\\in\\mathbb{R}^{256}$ definido por\n",
    "\n",
    "$$v_n=\\left\\{\\begin{array}{ll}\\frac{1}{M}&0\\le n<M\\\\0&M\\le n<N,\\end{array}\\right.$$\n",
    "\n",
    "onde $M$ é um parâmetro inteiro. Compute e plote a convolução circular $v*f$ para $M=256,100,50,20,10,5,1$ e explique os resultados visuais observados. _Dica: use o teorema da convolução $x*y=\\mbox{IDFT}(DFT(x)*DFT(y))$ para calcular a convolução circular._"
   ]
  },
  {
   "cell_type": "code",
   "execution_count": null,
   "metadata": {},
   "outputs": [],
   "source": [
    "# definição de f e v_n\n",
    "f = np.array([m.sin(m.pi*10*t) if t < 0.5 else 0.5 for t in np.arange(0,1,1/256)])\n",
    "def v(M):\n",
    "    return np.array([1/M if n < M else 0 for n in range(256)])"
   ]
  },
  {
   "cell_type": "code",
   "execution_count": null,
   "metadata": {},
   "outputs": [],
   "source": [
    "M = [256, 100, 50, 20, 10 , 5, 1]\n",
    "fig, ax = plt.subplots(2,4,figsize=(18, 8))\n",
    "for i, Mi in enumerate(M):\n",
    "    conv = np.real(np.fft.ifft(np.fft.fft(f) * np.fft.fft(v(Mi))))\n",
    "    ax[i // 4, i % 4].plot(conv, label='v*f')\n",
    "    ax[i // 4, i % 4].plot(f, label='f')\n",
    "fig.delaxes(ax[1,3])\n",
    "plt.legend(loc='upper left', bbox_to_anchor=(1.2, 1))\n",
    "plt.show()"
   ]
  },
  {
   "cell_type": "markdown",
   "metadata": {},
   "source": [
    "Podemos observar que para cada valor de M, cada componente (f * v)\\_k corresponde a média dos M valores anteriores a ele. Esse fenômeno fica clasro para os casos M=256, onde todas as amostras são média do sinal inteiro, e M=1, onde cada ponto é média de um único valor, ele próprio. Como visto filtros de média tem um comportamento \"passa-baixas\" e é possível ver que o fator de atenuação das frequências mais altas diminui juntamente com o valor de M."
   ]
  },
  {
   "cell_type": "markdown",
   "metadata": {},
   "source": [
    "__Exercício 4.13__ (continuação do Python notebook do exercício 4.11) Seja $M_h$ a matriz circulante para $h\\in\\mathbb{C}^N$, e seja $E_{N,k}$ a forma básica de onda exponencial de frequência $k$ definida na equação (1.23). O teorema 4.3.2 diz que $E_{N,k}$ é um autovetor de $M_h$ com autovalor $H_k$, onde $H=\\mbox{DFT}(h)$.\n",
    "\n",
    "Escolha um exemplo não-trivial $h\\in\\mathbb{C}^4$ e compute sua DFT. Construa a matriz circulante para $h$ usando a função \\texttt{scipy.linalg.toeplitz} (leia a documentação, e lembre-se que $M_h$ tem como primeira coluna $h$ e como primeira linha o adjunto $h'$) e compute os autovetores e autovalores da matriz $M_h$ usando a função \\texttt{numpy.linalg.eig}. Verifique automaticamente, usando um código em Python, que o teorema 4.3.2 é verificado no exemplo que você escolheu."
   ]
  },
  {
   "cell_type": "code",
   "execution_count": null,
   "metadata": {},
   "outputs": [],
   "source": [
    "#definição de E_{4, k}\n",
    "def E_4(k):\n",
    "    return np.e ** (2 * 1j* m.pi* k * np.arange(4)/4)"
   ]
  },
  {
   "cell_type": "code",
   "execution_count": null,
   "metadata": {},
   "outputs": [],
   "source": [
    "#escolha de h\n",
    "h = np.array([0.5, 1 ,4+3j ,2j ], dtype=np.complex64)\n",
    "# conjugado de h' (h'_k para C^N é igual a \\overline{k_{-k mod N}},\n",
    "#                  porem para a matriz circulante conjugamos os elementos) \n",
    "h_dash = np.roll(h[::-1], 1) "
   ]
  },
  {
   "cell_type": "code",
   "execution_count": null,
   "metadata": {},
   "outputs": [],
   "source": [
    "# Matriz circulante\n",
    "M_h = ln.toeplitz(h,h_dash)\n",
    "#autovalores e Autovetores\n",
    "evl, evc = np.linalg.eig(M_h)"
   ]
  },
  {
   "cell_type": "code",
   "execution_count": null,
   "metadata": {},
   "outputs": [],
   "source": [
    "# Autovalores são os elementos de DFT(h), np.sort é para garantir a ordem dos autovalores na comparação\n",
    "assert np.linalg.norm(np.sort(np.fft.fft(h)) - np.sort(evl)) < 1e-12, \"Autovalores não são H_k\""
   ]
  },
  {
   "cell_type": "code",
   "execution_count": null,
   "metadata": {},
   "outputs": [],
   "source": [
    "# Autovetores são vetores paralelos a E_{N_k}, a função np.linalg.eig devolve um autovetor possível para compararmos\n",
    "# com E_{k_n} precisamos checar pelo paralelismo\n",
    "def paralelos(v1, v2):\n",
    "    return abs(abs(np.dot(v2, np.conj(v1)))/(np.linalg.norm(v1)* np.linalg.norm(v2))-1) < 1e-12"
   ]
  },
  {
   "cell_type": "code",
   "execution_count": null,
   "metadata": {},
   "outputs": [],
   "source": [
    "# evc é uma matriz onde os autovalores estão nas colunas, sendo assim basta ver se para cada coluna de evc\n",
    "# existe um elemento da base E_{4,k} que é paralelo a ele\n",
    "for vc in evc.T:\n",
    "    assert any([paralelos(vc, E_4(k)) for k in range(4)]), f'{vc} não é um elemento da base E_{4,k}'\n",
    "        "
   ]
  },
  {
   "cell_type": "code",
   "execution_count": null,
   "metadata": {},
   "outputs": [],
   "source": [
    "# basta apenas mostrar que o autovalor associado a E_{4,k} é H_k\n",
    "H = np.fft.fft(h)\n",
    "for k in range(4):\n",
    "    assert np.linalg.norm(np.dot(M_h, E_4(k)) - H[k]* E_4(k)) < 1e-12, f'autovalor {H[k]} não esta associado a E_(4,{k})'"
   ]
  },
  {
   "cell_type": "markdown",
   "metadata": {},
   "source": [
    "__Exercicio 4.15__ Considere o _filtro da diferença_ $h$ com coeficientes $h_0=\\frac{1}{2}$, $h_1=-\\frac{1}{2}$ e $h_m=0,\\ \\forall m\\neq 0,1$. Calcule manualmente a DFT de $h$, simplificando a expressão de $H_k$ do mesmo modo que foi feito para o filtro da média (veja o notebook da seção 4.2), e esboce os gráficos das respostas em magnitude e fase do filtro correspondente. Explique porque esse filtro é classificado como ``passa-altas''."
   ]
  },
  {
   "cell_type": "markdown",
   "metadata": {},
   "source": [
    "__Solução__: temos que $h = (\\frac{1}{2}, -\\frac{1}{2}, 0, \\dots)^T$ para estimar como o filtro se comporta em relação às formas básicas de onda de Fourier. Se\n",
    "\n",
    "$x_n = e^{i2\\pi qn/N}$, onde  $n = 0, 1, \\dots, N-1$ e $q = 0, 1, \\dots, N-1$ é uma frequência, então\n",
    "\n",
    "\\begin{align*}\n",
    "\tw_n = (x * h)_n &= \\frac{1}{2}e^{i2\\pi qn/N} - \\frac{1}{2}e^{i2\\pi q(n-1)/N} \\\\\n",
    "\t&= \\frac{1}{2}e^{i2\\pi q\\left(n-\\frac{1}{2}\\right)/N}\\left[e^{i\\pi q\\frac{1}{N}} - e^{-i\\pi q\\frac{1}{N}}\\right] \\\\\n",
    "\t&= i\\mbox{sen}\\left(\\pi q\\frac{1}{N}\\right)e^{i2\\pi q\\left(-\\frac{1}{2}\\right)/N}e^{i2\\pi qn/N} \\\\\n",
    "\t&= H_q x_n\n",
    "\\end{align*}\n",
    "\n",
    "onde $H_q = i\\mbox{sen}\\left(\\pi q\\frac{1}{N}\\right)e^{-i\\pi q/N}$."
   ]
  },
  {
   "cell_type": "markdown",
   "metadata": {},
   "source": [
    "**Observe** que o fator $H_q$, dependente da frequência $q$, equivale a uma atenuação de amplitude\n",
    "\n",
    "$$|H_q| = \\mbox{sen}\\left(\\pi q\\frac{1}{N}\\right)$$ \n",
    "\n",
    "e uma alteração de fase:\n",
    "\n",
    "$$\\measuredangle H_q = -\\pi q/N$$"
   ]
  },
  {
   "cell_type": "code",
   "execution_count": null,
   "metadata": {
    "scrolled": true
   },
   "outputs": [],
   "source": [
    "N=100\n",
    "q = np.arange(-N / 2 + 1, N / 2 + 1);\n",
    "Hq = 1j * np.sin(m.pi*q/N)*np.exp(-1j * m.pi * q / N)\n",
    "fig, ax = plt.subplots(1, 2, figsize=(15,5))\n",
    "ax[0].plot(q / (N / 2 + 1), np.abs(Hq));\n",
    "ax[0].set_title(r\"resposta em magnitude $|H_q| = sen\\left(\\pi q\\frac{1}{N}\\right)$\")\n",
    "ax[0].set_xlabel(r\"frequência ângular [$\\pi$ rad/s]\")\n",
    "ax[1].plot(q /(N / 2 + 1), np.angle(Hq)/np.pi)\n",
    "ax[1].set_title(r\"resposta em fase $\\measuredangle H_q = e^{-i\\pi q/N}$\")\n",
    "ax[1].set_xlabel(r\"frequência ângular [$\\pi$ rad/s]\")\n",
    "ax[1].set_xlabel(r\"frequência ângular [$\\pi$ rad/s]\")\n",
    "ax[1].set_ylabel(r\" fase [$\\pi$ rad]\")\n",
    "plt.show()"
   ]
  },
  {
   "cell_type": "markdown",
   "metadata": {},
   "source": [
    "No gráfico acima podemos ver que as frequências mais baixas (próximas de 0) sofrem grande atenuação de amplitude, enquanto que freqûencias mais altas (próximas a taxa de Nyquist) sofrem pouco ou nenhuma atenuação, assim esse filtro possui uma característica de passa-altas."
   ]
  }
 ],
 "metadata": {
  "kernelspec": {
   "display_name": "Python 3",
   "language": "python",
   "name": "python3"
  },
  "language_info": {
   "codemirror_mode": {
    "name": "ipython",
    "version": 3
   },
   "file_extension": ".py",
   "mimetype": "text/x-python",
   "name": "python",
   "nbconvert_exporter": "python",
   "pygments_lexer": "ipython3",
   "version": "3.7.7"
  }
 },
 "nbformat": 4,
 "nbformat_minor": 2
}
